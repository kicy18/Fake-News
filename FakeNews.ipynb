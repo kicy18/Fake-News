{
  "metadata": {
    "kernelspec": {
      "name": "python",
      "display_name": "Python (Pyodide)",
      "language": "python"
    },
    "language_info": {
      "codemirror_mode": {
        "name": "python",
        "version": 3
      },
      "file_extension": ".py",
      "mimetype": "text/x-python",
      "name": "python",
      "nbconvert_exporter": "python",
      "pygments_lexer": "ipython3",
      "version": "3.8"
    }
  },
  "nbformat_minor": 4,
  "nbformat": 4,
  "cells": [
    {
      "cell_type": "code",
      "source": "import pandas as pd\nimport numpy as np",
      "metadata": {
        "trusted": true
      },
      "outputs": [
        {
          "name": "stderr",
          "text": "<ipython-input-1-baf368f80de7>:1: DeprecationWarning: \nPyarrow will become a required dependency of pandas in the next major release of pandas (pandas 3.0),\n(to allow more performant data types, such as the Arrow string type, and better interoperability with other libraries)\nbut was not found to be installed on your system.\nIf this would cause problems for you,\nplease provide us feedback at https://github.com/pandas-dev/pandas/issues/54466\n        \n  import pandas as pd\n",
          "output_type": "stream"
        }
      ],
      "execution_count": 1
    },
    {
      "cell_type": "code",
      "source": "df = pd.read_csv('news.csv')\ndf",
      "metadata": {
        "trusted": true
      },
      "outputs": [
        {
          "execution_count": 2,
          "output_type": "execute_result",
          "data": {
            "text/plain": "      Unnamed: 0                                              title  \\\n0           8476                       You Can Smell Hillary’s Fear   \n1          10294  Watch The Exact Moment Paul Ryan Committed Pol...   \n2           3608        Kerry to go to Paris in gesture of sympathy   \n3          10142  Bernie supporters on Twitter erupt in anger ag...   \n4            875   The Battle of New York: Why This Primary Matters   \n...          ...                                                ...   \n4904        2034                                Is it 2016 already?   \n4905        7671               It’s On: Between Duterte and America   \n4906        2602  Boehner: Israel trip planned before Netanyahu-...   \n4907        6766  The US May Soon Face an Apocalyptic Seismic Event   \n4908        8121                                         Anti-Trump   \n\n                                                   text label  \n0     Daniel Greenfield, a Shillman Journalism Fello...  FAKE  \n1     Google Pinterest Digg Linkedin Reddit Stumbleu...  FAKE  \n2     U.S. Secretary of State John F. Kerry said Mon...  REAL  \n3     — Kaydee King (@KaydeeKing) November 9, 2016 T...  FAKE  \n4     It's primary day in New York and front-runners...  REAL  \n...                                                 ...   ...  \n4904  Jan. 1, 2016, is 859 days away. But, judging f...  REAL  \n4905  shorty BY PETER LEE I ’ve written a couple pie...  FAKE  \n4906  The Ohio Republican will travel to Israel this...  REAL  \n4907  Today, an ever increasing number of earthquake...  FAKE  \n4908                                                NaN   NaN  \n\n[4909 rows x 4 columns]",
            "text/html": "<div>\n<style scoped>\n    .dataframe tbody tr th:only-of-type {\n        vertical-align: middle;\n    }\n\n    .dataframe tbody tr th {\n        vertical-align: top;\n    }\n\n    .dataframe thead th {\n        text-align: right;\n    }\n</style>\n<table border=\"1\" class=\"dataframe\">\n  <thead>\n    <tr style=\"text-align: right;\">\n      <th></th>\n      <th>Unnamed: 0</th>\n      <th>title</th>\n      <th>text</th>\n      <th>label</th>\n    </tr>\n  </thead>\n  <tbody>\n    <tr>\n      <th>0</th>\n      <td>8476</td>\n      <td>You Can Smell Hillary’s Fear</td>\n      <td>Daniel Greenfield, a Shillman Journalism Fello...</td>\n      <td>FAKE</td>\n    </tr>\n    <tr>\n      <th>1</th>\n      <td>10294</td>\n      <td>Watch The Exact Moment Paul Ryan Committed Pol...</td>\n      <td>Google Pinterest Digg Linkedin Reddit Stumbleu...</td>\n      <td>FAKE</td>\n    </tr>\n    <tr>\n      <th>2</th>\n      <td>3608</td>\n      <td>Kerry to go to Paris in gesture of sympathy</td>\n      <td>U.S. Secretary of State John F. Kerry said Mon...</td>\n      <td>REAL</td>\n    </tr>\n    <tr>\n      <th>3</th>\n      <td>10142</td>\n      <td>Bernie supporters on Twitter erupt in anger ag...</td>\n      <td>— Kaydee King (@KaydeeKing) November 9, 2016 T...</td>\n      <td>FAKE</td>\n    </tr>\n    <tr>\n      <th>4</th>\n      <td>875</td>\n      <td>The Battle of New York: Why This Primary Matters</td>\n      <td>It's primary day in New York and front-runners...</td>\n      <td>REAL</td>\n    </tr>\n    <tr>\n      <th>...</th>\n      <td>...</td>\n      <td>...</td>\n      <td>...</td>\n      <td>...</td>\n    </tr>\n    <tr>\n      <th>4904</th>\n      <td>2034</td>\n      <td>Is it 2016 already?</td>\n      <td>Jan. 1, 2016, is 859 days away. But, judging f...</td>\n      <td>REAL</td>\n    </tr>\n    <tr>\n      <th>4905</th>\n      <td>7671</td>\n      <td>It’s On: Between Duterte and America</td>\n      <td>shorty BY PETER LEE I ’ve written a couple pie...</td>\n      <td>FAKE</td>\n    </tr>\n    <tr>\n      <th>4906</th>\n      <td>2602</td>\n      <td>Boehner: Israel trip planned before Netanyahu-...</td>\n      <td>The Ohio Republican will travel to Israel this...</td>\n      <td>REAL</td>\n    </tr>\n    <tr>\n      <th>4907</th>\n      <td>6766</td>\n      <td>The US May Soon Face an Apocalyptic Seismic Event</td>\n      <td>Today, an ever increasing number of earthquake...</td>\n      <td>FAKE</td>\n    </tr>\n    <tr>\n      <th>4908</th>\n      <td>8121</td>\n      <td>Anti-Trump</td>\n      <td>NaN</td>\n      <td>NaN</td>\n    </tr>\n  </tbody>\n</table>\n<p>4909 rows × 4 columns</p>\n</div>"
          },
          "metadata": {}
        }
      ],
      "execution_count": 2
    },
    {
      "cell_type": "code",
      "source": "df.drop(['Unnamed: 0'] , axis = 'columns' , inplace = True)",
      "metadata": {
        "trusted": true
      },
      "outputs": [],
      "execution_count": 3
    },
    {
      "cell_type": "code",
      "source": "df.isna().sum()",
      "metadata": {
        "trusted": true
      },
      "outputs": [
        {
          "execution_count": 4,
          "output_type": "execute_result",
          "data": {
            "text/plain": "title    0\ntext     1\nlabel    1\ndtype: int64"
          },
          "metadata": {}
        }
      ],
      "execution_count": 4
    },
    {
      "cell_type": "code",
      "source": "df.dropna(inplace = True)",
      "metadata": {
        "trusted": true
      },
      "outputs": [],
      "execution_count": 5
    },
    {
      "cell_type": "code",
      "source": "df.isna().sum()",
      "metadata": {
        "trusted": true
      },
      "outputs": [
        {
          "execution_count": 6,
          "output_type": "execute_result",
          "data": {
            "text/plain": "title    0\ntext     0\nlabel    0\ndtype: int64"
          },
          "metadata": {}
        }
      ],
      "execution_count": 6
    },
    {
      "cell_type": "code",
      "source": "df['Fake'] = df.label.apply(lambda x: 1 if x == 'FAKE' else 0)",
      "metadata": {
        "trusted": true
      },
      "outputs": [],
      "execution_count": 7
    },
    {
      "cell_type": "code",
      "source": "df",
      "metadata": {
        "trusted": true
      },
      "outputs": [
        {
          "execution_count": 8,
          "output_type": "execute_result",
          "data": {
            "text/plain": "                                                  title  \\\n0                          You Can Smell Hillary’s Fear   \n1     Watch The Exact Moment Paul Ryan Committed Pol...   \n2           Kerry to go to Paris in gesture of sympathy   \n3     Bernie supporters on Twitter erupt in anger ag...   \n4      The Battle of New York: Why This Primary Matters   \n...                                                 ...   \n4903  Israeli Deputy Minister: Italy Quakes Retribut...   \n4904                                Is it 2016 already?   \n4905               It’s On: Between Duterte and America   \n4906  Boehner: Israel trip planned before Netanyahu-...   \n4907  The US May Soon Face an Apocalyptic Seismic Event   \n\n                                                   text label  Fake  \n0     Daniel Greenfield, a Shillman Journalism Fello...  FAKE     1  \n1     Google Pinterest Digg Linkedin Reddit Stumbleu...  FAKE     1  \n2     U.S. Secretary of State John F. Kerry said Mon...  REAL     0  \n3     — Kaydee King (@KaydeeKing) November 9, 2016 T...  FAKE     1  \n4     It's primary day in New York and front-runners...  REAL     0  \n...                                                 ...   ...   ...  \n4903    Edmondo Burr in Conspiracies // 0 Comments T...  FAKE     1  \n4904  Jan. 1, 2016, is 859 days away. But, judging f...  REAL     0  \n4905  shorty BY PETER LEE I ’ve written a couple pie...  FAKE     1  \n4906  The Ohio Republican will travel to Israel this...  REAL     0  \n4907  Today, an ever increasing number of earthquake...  FAKE     1  \n\n[4908 rows x 4 columns]",
            "text/html": "<div>\n<style scoped>\n    .dataframe tbody tr th:only-of-type {\n        vertical-align: middle;\n    }\n\n    .dataframe tbody tr th {\n        vertical-align: top;\n    }\n\n    .dataframe thead th {\n        text-align: right;\n    }\n</style>\n<table border=\"1\" class=\"dataframe\">\n  <thead>\n    <tr style=\"text-align: right;\">\n      <th></th>\n      <th>title</th>\n      <th>text</th>\n      <th>label</th>\n      <th>Fake</th>\n    </tr>\n  </thead>\n  <tbody>\n    <tr>\n      <th>0</th>\n      <td>You Can Smell Hillary’s Fear</td>\n      <td>Daniel Greenfield, a Shillman Journalism Fello...</td>\n      <td>FAKE</td>\n      <td>1</td>\n    </tr>\n    <tr>\n      <th>1</th>\n      <td>Watch The Exact Moment Paul Ryan Committed Pol...</td>\n      <td>Google Pinterest Digg Linkedin Reddit Stumbleu...</td>\n      <td>FAKE</td>\n      <td>1</td>\n    </tr>\n    <tr>\n      <th>2</th>\n      <td>Kerry to go to Paris in gesture of sympathy</td>\n      <td>U.S. Secretary of State John F. Kerry said Mon...</td>\n      <td>REAL</td>\n      <td>0</td>\n    </tr>\n    <tr>\n      <th>3</th>\n      <td>Bernie supporters on Twitter erupt in anger ag...</td>\n      <td>— Kaydee King (@KaydeeKing) November 9, 2016 T...</td>\n      <td>FAKE</td>\n      <td>1</td>\n    </tr>\n    <tr>\n      <th>4</th>\n      <td>The Battle of New York: Why This Primary Matters</td>\n      <td>It's primary day in New York and front-runners...</td>\n      <td>REAL</td>\n      <td>0</td>\n    </tr>\n    <tr>\n      <th>...</th>\n      <td>...</td>\n      <td>...</td>\n      <td>...</td>\n      <td>...</td>\n    </tr>\n    <tr>\n      <th>4903</th>\n      <td>Israeli Deputy Minister: Italy Quakes Retribut...</td>\n      <td>Edmondo Burr in Conspiracies // 0 Comments T...</td>\n      <td>FAKE</td>\n      <td>1</td>\n    </tr>\n    <tr>\n      <th>4904</th>\n      <td>Is it 2016 already?</td>\n      <td>Jan. 1, 2016, is 859 days away. But, judging f...</td>\n      <td>REAL</td>\n      <td>0</td>\n    </tr>\n    <tr>\n      <th>4905</th>\n      <td>It’s On: Between Duterte and America</td>\n      <td>shorty BY PETER LEE I ’ve written a couple pie...</td>\n      <td>FAKE</td>\n      <td>1</td>\n    </tr>\n    <tr>\n      <th>4906</th>\n      <td>Boehner: Israel trip planned before Netanyahu-...</td>\n      <td>The Ohio Republican will travel to Israel this...</td>\n      <td>REAL</td>\n      <td>0</td>\n    </tr>\n    <tr>\n      <th>4907</th>\n      <td>The US May Soon Face an Apocalyptic Seismic Event</td>\n      <td>Today, an ever increasing number of earthquake...</td>\n      <td>FAKE</td>\n      <td>1</td>\n    </tr>\n  </tbody>\n</table>\n<p>4908 rows × 4 columns</p>\n</div>"
          },
          "metadata": {}
        }
      ],
      "execution_count": 8
    },
    {
      "cell_type": "code",
      "source": "df.drop(['label'] , axis = 'columns' , inplace = True)\ndf",
      "metadata": {
        "trusted": true
      },
      "outputs": [
        {
          "execution_count": 9,
          "output_type": "execute_result",
          "data": {
            "text/plain": "                                                  title  \\\n0                          You Can Smell Hillary’s Fear   \n1     Watch The Exact Moment Paul Ryan Committed Pol...   \n2           Kerry to go to Paris in gesture of sympathy   \n3     Bernie supporters on Twitter erupt in anger ag...   \n4      The Battle of New York: Why This Primary Matters   \n...                                                 ...   \n4903  Israeli Deputy Minister: Italy Quakes Retribut...   \n4904                                Is it 2016 already?   \n4905               It’s On: Between Duterte and America   \n4906  Boehner: Israel trip planned before Netanyahu-...   \n4907  The US May Soon Face an Apocalyptic Seismic Event   \n\n                                                   text  Fake  \n0     Daniel Greenfield, a Shillman Journalism Fello...     1  \n1     Google Pinterest Digg Linkedin Reddit Stumbleu...     1  \n2     U.S. Secretary of State John F. Kerry said Mon...     0  \n3     — Kaydee King (@KaydeeKing) November 9, 2016 T...     1  \n4     It's primary day in New York and front-runners...     0  \n...                                                 ...   ...  \n4903    Edmondo Burr in Conspiracies // 0 Comments T...     1  \n4904  Jan. 1, 2016, is 859 days away. But, judging f...     0  \n4905  shorty BY PETER LEE I ’ve written a couple pie...     1  \n4906  The Ohio Republican will travel to Israel this...     0  \n4907  Today, an ever increasing number of earthquake...     1  \n\n[4908 rows x 3 columns]",
            "text/html": "<div>\n<style scoped>\n    .dataframe tbody tr th:only-of-type {\n        vertical-align: middle;\n    }\n\n    .dataframe tbody tr th {\n        vertical-align: top;\n    }\n\n    .dataframe thead th {\n        text-align: right;\n    }\n</style>\n<table border=\"1\" class=\"dataframe\">\n  <thead>\n    <tr style=\"text-align: right;\">\n      <th></th>\n      <th>title</th>\n      <th>text</th>\n      <th>Fake</th>\n    </tr>\n  </thead>\n  <tbody>\n    <tr>\n      <th>0</th>\n      <td>You Can Smell Hillary’s Fear</td>\n      <td>Daniel Greenfield, a Shillman Journalism Fello...</td>\n      <td>1</td>\n    </tr>\n    <tr>\n      <th>1</th>\n      <td>Watch The Exact Moment Paul Ryan Committed Pol...</td>\n      <td>Google Pinterest Digg Linkedin Reddit Stumbleu...</td>\n      <td>1</td>\n    </tr>\n    <tr>\n      <th>2</th>\n      <td>Kerry to go to Paris in gesture of sympathy</td>\n      <td>U.S. Secretary of State John F. Kerry said Mon...</td>\n      <td>0</td>\n    </tr>\n    <tr>\n      <th>3</th>\n      <td>Bernie supporters on Twitter erupt in anger ag...</td>\n      <td>— Kaydee King (@KaydeeKing) November 9, 2016 T...</td>\n      <td>1</td>\n    </tr>\n    <tr>\n      <th>4</th>\n      <td>The Battle of New York: Why This Primary Matters</td>\n      <td>It's primary day in New York and front-runners...</td>\n      <td>0</td>\n    </tr>\n    <tr>\n      <th>...</th>\n      <td>...</td>\n      <td>...</td>\n      <td>...</td>\n    </tr>\n    <tr>\n      <th>4903</th>\n      <td>Israeli Deputy Minister: Italy Quakes Retribut...</td>\n      <td>Edmondo Burr in Conspiracies // 0 Comments T...</td>\n      <td>1</td>\n    </tr>\n    <tr>\n      <th>4904</th>\n      <td>Is it 2016 already?</td>\n      <td>Jan. 1, 2016, is 859 days away. But, judging f...</td>\n      <td>0</td>\n    </tr>\n    <tr>\n      <th>4905</th>\n      <td>It’s On: Between Duterte and America</td>\n      <td>shorty BY PETER LEE I ’ve written a couple pie...</td>\n      <td>1</td>\n    </tr>\n    <tr>\n      <th>4906</th>\n      <td>Boehner: Israel trip planned before Netanyahu-...</td>\n      <td>The Ohio Republican will travel to Israel this...</td>\n      <td>0</td>\n    </tr>\n    <tr>\n      <th>4907</th>\n      <td>The US May Soon Face an Apocalyptic Seismic Event</td>\n      <td>Today, an ever increasing number of earthquake...</td>\n      <td>1</td>\n    </tr>\n  </tbody>\n</table>\n<p>4908 rows × 3 columns</p>\n</div>"
          },
          "metadata": {}
        }
      ],
      "execution_count": 9
    },
    {
      "cell_type": "code",
      "source": "X = df.drop(['Fake'] , axis = 'columns')\nY = df.Fake",
      "metadata": {
        "trusted": true
      },
      "outputs": [],
      "execution_count": 10
    },
    {
      "cell_type": "code",
      "source": "from sklearn.feature_extraction.text import TfidfVectorizer\ntfid = TfidfVectorizer(max_features=1000)",
      "metadata": {
        "trusted": true
      },
      "outputs": [],
      "execution_count": 11
    },
    {
      "cell_type": "code",
      "source": "x_tfid = tfid.fit_transform(X['text'])\n\n# Convert the sparse matrix to a DataFrame\ndfx = pd.DataFrame(x_tfid.toarray(), columns=tfid.get_feature_names_out())\ndfx.shape\n",
      "metadata": {
        "trusted": true
      },
      "outputs": [
        {
          "execution_count": 12,
          "output_type": "execute_result",
          "data": {
            "text/plain": "(4908, 1000)"
          },
          "metadata": {}
        }
      ],
      "execution_count": 12
    },
    {
      "cell_type": "code",
      "source": "from sklearn.model_selection import train_test_split\nx_train , x_test , y_train , y_test = train_test_split(x_tfid , Y , test_size = 0.2 , random_state = 0)",
      "metadata": {
        "trusted": true
      },
      "outputs": [],
      "execution_count": 28
    },
    {
      "cell_type": "code",
      "source": "from sklearn.linear_model import LogisticRegression\nfrom sklearn.tree import DecisionTreeClassifier\nfrom sklearn.svm import SVC\nfrom sklearn.ensemble import RandomForestClassifier,GradientBoostingClassifier\nfrom sklearn.neighbors import KNeighborsClassifier\nfrom xgboost import XGBClassifier\nfrom sklearn.naive_bayes import GaussianNB\nfrom lightgbm import LGBMClassifier",
      "metadata": {
        "trusted": true
      },
      "outputs": [],
      "execution_count": 29
    },
    {
      "cell_type": "code",
      "source": "model_params = {\n    'Logistic Regression': {\n        'model': LogisticRegression(),\n        'params': {\n            'C': [0.1, 1],  # Reduced range for regularization\n            'solver': ['liblinear'],  # Limiting to a faster solver\n        }\n    },\n    'Decision Tree': {\n        'model': DecisionTreeClassifier(),\n        'params': {\n            # Only one criterion for faster evaluation\n            'max_depth': [5, 10],\n            # Adding a depth limit for optimization\n        }\n    },\n    'Random Forest': {\n        'model': RandomForestClassifier(),\n        'params': {\n            'n_estimators': [10, 50],  # Fewer estimators\n            'criterion': ['gini'],\n        }\n    },\n    'Support Vector Classifier (SVC)': {\n        'model': SVC(),\n        'params': {\n            'C': [1, 10],  # Focus on most common C values\n            'kernel': ['linear'],  # Limit to linear kernel for speed\n        }\n    },\n    'K-Nearest Neighbors (KNN)': {\n        'model': KNeighborsClassifier(),\n        'params': {\n            'n_neighbors': [3, 5],  # Reduced neighbor options\n        }\n    }\n}\n",
      "metadata": {
        "trusted": true
      },
      "outputs": [],
      "execution_count": 30
    },
    {
      "cell_type": "code",
      "source": "from sklearn.model_selection import GridSearchCV\nscores = []\nfor model_name , mp in model_params.items():\n    clf = GridSearchCV(mp['model'] , mp['params'] , cv = 3 , return_train_score = False)\n    clf.fit(x_train , y_train)\n    scores.append({\n        'model':model_name,\n        'best score':clf.best_score_,\n        'best_params' : clf.best_params_\n    })\n    df_score = pd.DataFrame(scores , columns =('model' , 'best score' , 'best_params') )\n    df_score",
      "metadata": {
        "trusted": true
      },
      "outputs": [],
      "execution_count": 31
    },
    {
      "cell_type": "code",
      "source": "df_score",
      "metadata": {
        "trusted": true
      },
      "outputs": [
        {
          "execution_count": 32,
          "output_type": "execute_result",
          "data": {
            "text/plain": "                             model  best score  \\\n0              Logistic Regression    0.894040   \n1                    Decision Tree    0.784262   \n2                    Random Forest    0.882830   \n3  Support Vector Classifier (SVC)    0.903974   \n4        K-Nearest Neighbors (KNN)    0.794956   \n\n                                 best_params  \n0            {'C': 1, 'solver': 'liblinear'}  \n1                           {'max_depth': 5}  \n2  {'criterion': 'gini', 'n_estimators': 50}  \n3               {'C': 1, 'kernel': 'linear'}  \n4                         {'n_neighbors': 3}  ",
            "text/html": "<div>\n<style scoped>\n    .dataframe tbody tr th:only-of-type {\n        vertical-align: middle;\n    }\n\n    .dataframe tbody tr th {\n        vertical-align: top;\n    }\n\n    .dataframe thead th {\n        text-align: right;\n    }\n</style>\n<table border=\"1\" class=\"dataframe\">\n  <thead>\n    <tr style=\"text-align: right;\">\n      <th></th>\n      <th>model</th>\n      <th>best score</th>\n      <th>best_params</th>\n    </tr>\n  </thead>\n  <tbody>\n    <tr>\n      <th>0</th>\n      <td>Logistic Regression</td>\n      <td>0.894040</td>\n      <td>{'C': 1, 'solver': 'liblinear'}</td>\n    </tr>\n    <tr>\n      <th>1</th>\n      <td>Decision Tree</td>\n      <td>0.784262</td>\n      <td>{'max_depth': 5}</td>\n    </tr>\n    <tr>\n      <th>2</th>\n      <td>Random Forest</td>\n      <td>0.882830</td>\n      <td>{'criterion': 'gini', 'n_estimators': 50}</td>\n    </tr>\n    <tr>\n      <th>3</th>\n      <td>Support Vector Classifier (SVC)</td>\n      <td>0.903974</td>\n      <td>{'C': 1, 'kernel': 'linear'}</td>\n    </tr>\n    <tr>\n      <th>4</th>\n      <td>K-Nearest Neighbors (KNN)</td>\n      <td>0.794956</td>\n      <td>{'n_neighbors': 3}</td>\n    </tr>\n  </tbody>\n</table>\n</div>"
          },
          "metadata": {}
        }
      ],
      "execution_count": 32
    },
    {
      "cell_type": "code",
      "source": "from sklearn.ensemble import StackingClassifier\nbase_models = [\n    ('rf', RandomForestClassifier(n_estimators=50)),\n    ('kn', KNeighborsClassifier(n_neighbors = 3)),\n    ('svm', SVC(kernel = 'linear'))\n]\nmeta_model = LogisticRegression(solver = 'liblinear')\nstacked_model = StackingClassifier(estimators = base_models, final_estimator=meta_model)\nstacked_model.fit(x_train , y_train)\nstacked_model.score(x_test , y_test)",
      "metadata": {
        "trusted": true
      },
      "outputs": [
        {
          "execution_count": 39,
          "output_type": "execute_result",
          "data": {
            "text/plain": "0.9215885947046843"
          },
          "metadata": {}
        }
      ],
      "execution_count": 39
    },
    {
      "cell_type": "code",
      "source": "news_samples = [\n    \"You Can Smell Hillary’s Fear\",\n    \"Watch The Exact Moment Paul Ryan Committed Pol...\",\n    \"Kerry to go to Paris in gesture of sympathy\",\n    \"Bernie supporters on Twitter erupt in anger ag...\",\n    \"The Battle of New York: Why This Primary Matters\",\n    \"Israeli Deputy Minister: Italy Quakes Retribution for UNESCO Vote\",\n    \"Is it 2016 already?\",\n    \"It’s On: Between Duterte and America\",\n    \"Boehner: Israel trip planned before Netanyahu speech invite\",\n    \"The US May Soon Face an Apocalyptic Seismic Event\"\n]\n",
      "metadata": {
        "trusted": true
      },
      "outputs": [],
      "execution_count": 49
    },
    {
      "cell_type": "code",
      "source": "news_smaple_tfid = tfid.transform(news_samples)\n\n# Convert the sparse matrix to a DataFrame\nstacked_model.predict(news_smaple_tfid)",
      "metadata": {
        "trusted": true
      },
      "outputs": [
        {
          "execution_count": 50,
          "output_type": "execute_result",
          "data": {
            "text/plain": "array([1, 1, 1, 1, 1, 1, 1, 1, 1, 1], dtype=int64)"
          },
          "metadata": {}
        }
      ],
      "execution_count": 50
    },
    {
      "cell_type": "code",
      "source": "svm = SVC(kernel = 'linear')\nsvm.fit(x_train , y_train)\nsvm.predict(news_smaple_tfid)",
      "metadata": {
        "trusted": true
      },
      "outputs": [
        {
          "execution_count": 45,
          "output_type": "execute_result",
          "data": {
            "text/plain": "array([1, 1, 1, 1, 1], dtype=int64)"
          },
          "metadata": {}
        }
      ],
      "execution_count": 45
    },
    {
      "cell_type": "code",
      "source": "y_predict = stacked_model.predict(x_test)",
      "metadata": {
        "trusted": true
      },
      "outputs": [],
      "execution_count": 46
    },
    {
      "cell_type": "code",
      "source": "from sklearn.metrics import confusion_matrix\ncm = confusion_matrix( y_test , y_predict)\ncm",
      "metadata": {
        "trusted": true
      },
      "outputs": [
        {
          "execution_count": 48,
          "output_type": "execute_result",
          "data": {
            "text/plain": "array([[470,  42],\n       [ 35, 435]], dtype=int64)"
          },
          "metadata": {}
        }
      ],
      "execution_count": 48
    },
    {
      "cell_type": "code",
      "source": "",
      "metadata": {
        "trusted": true
      },
      "outputs": [],
      "execution_count": null
    }
  ]
}